{
 "cells": [
  {
   "cell_type": "markdown",
   "metadata": {},
   "source": [
    "# 05. 간단하게 반복하는 한 줄 for 문\n",
    "\n",
    "- 리스트 컴프리핸션, 세트 컴프리해션, 딕셔너리 컴프리핸션 \n",
    "    : 리스트, 세트, 딕셔너리 내에서 실행할 수 있는 한줄 for문\n",
    "    : 각각 리스트, 세트, 딕셔너리 내에 코드가 내포돼 실행되는 것\n",
    "- 컴프리핸션(Comprefension) : 내포, 내장 이라는 뜻을 가짐"
   ]
  },
  {
   "cell_type": "code",
   "execution_count": null,
   "metadata": {},
   "outputs": [],
   "source": []
  }
 ],
 "metadata": {
  "kernelspec": {
   "display_name": "Python 3",
   "language": "python",
   "name": "python3"
  },
  "language_info": {
   "codemirror_mode": {
    "name": "ipython",
    "version": 3
   },
   "file_extension": ".py",
   "mimetype": "text/x-python",
   "name": "python",
   "nbconvert_exporter": "python",
   "pygments_lexer": "ipython3",
   "version": "3.6.7"
  }
 },
 "nbformat": 4,
 "nbformat_minor": 2
}
