{
 "cells": [
  {
   "cell_type": "code",
   "execution_count": 6,
   "metadata": {},
   "outputs": [
    {
     "name": "stdout",
     "output_type": "stream",
     "text": [
      "2\n"
     ]
    }
   ],
   "source": [
    "def my_max(a,b):\n",
    "    print(max(a,b))\n",
    "\n",
    "my_max(1,2)"
   ]
  },
  {
   "cell_type": "code",
   "execution_count": 7,
   "metadata": {},
   "outputs": [
    {
     "data": {
      "text/plain": [
       "2"
      ]
     },
     "execution_count": 7,
     "metadata": {},
     "output_type": "execute_result"
    }
   ],
   "source": [
    "def my_max(a,b):\n",
    "    if a > b:\n",
    "        return a\n",
    "    else:\n",
    "        return b\n",
    "    \n",
    "my_max(1,2)"
   ]
  },
  {
   "cell_type": "code",
   "execution_count": 8,
   "metadata": {},
   "outputs": [],
   "source": [
    "def greeting(name='현경'):\n",
    "    print(f'{name}, hi')"
   ]
  },
  {
   "cell_type": "code",
   "execution_count": 9,
   "metadata": {},
   "outputs": [
    {
     "name": "stdout",
     "output_type": "stream",
     "text": [
      "현경, hi\n"
     ]
    }
   ],
   "source": [
    "greeting()"
   ]
  },
  {
   "cell_type": "code",
   "execution_count": 11,
   "metadata": {},
   "outputs": [
    {
     "name": "stdout",
     "output_type": "stream",
     "text": [
      "hyunkyeng, hi\n"
     ]
    }
   ],
   "source": [
    "greeting('hyunkyeng')"
   ]
  },
  {
   "cell_type": "code",
   "execution_count": 1,
   "metadata": {},
   "outputs": [
    {
     "name": "stdout",
     "output_type": "stream",
     "text": [
      "hi__bye\n"
     ]
    }
   ],
   "source": [
    "print('hi', end='__')\n",
    "print('bye')"
   ]
  },
  {
   "cell_type": "code",
   "execution_count": 4,
   "metadata": {},
   "outputs": [
    {
     "name": "stdout",
     "output_type": "stream",
     "text": [
      "hi,안녕,3\n"
     ]
    }
   ],
   "source": [
    "#가변 인자는 튜플 형식이다. \n",
    "\n",
    "print('hi', '안녕', 3, sep=',')"
   ]
  },
  {
   "cell_type": "code",
   "execution_count": 12,
   "metadata": {},
   "outputs": [
    {
     "name": "stdout",
     "output_type": "stream",
     "text": [
      "<class 'tuple'>\n"
     ]
    }
   ],
   "source": [
    "def my_func(*args):\n",
    "    print(type(args))\n",
    "\n",
    "my_func(1,2)\n"
   ]
  },
  {
   "cell_type": "code",
   "execution_count": 14,
   "metadata": {},
   "outputs": [
    {
     "data": {
      "text/plain": [
       "6"
      ]
     },
     "execution_count": 14,
     "metadata": {},
     "output_type": "execute_result"
    }
   ],
   "source": [
    "#정수를 여러 개 받아서 가장 큰 값을 반환(return)하는 my_max()을 만들어주세요. 단, sum(), max() 사용 금지.\n",
    "\n",
    "def my_max(*args):\n",
    "    max_num = args[0]\n",
    "    for i in range(1, len(args)):\n",
    "        if max_num < args[i]:\n",
    "            max_num = args[i]\n",
    "    return max_num\n",
    "\n",
    "my_max(1,2,3,4)\n",
    "my_max(5,4,6,3)"
   ]
  },
  {
   "cell_type": "code",
   "execution_count": null,
   "metadata": {},
   "outputs": [],
   "source": [
    "# 임의의 **숫자**의 인자를 받을 때의 가변인자 : *args - 튜플형식\n",
    "# 정의되지 않은 인자 : **kwargs - 딕셔너리형식 "
   ]
  },
  {
   "cell_type": "code",
   "execution_count": 15,
   "metadata": {},
   "outputs": [
    {
     "name": "stdout",
     "output_type": "stream",
     "text": [
      "한국어 : 안녕\n",
      "영어 : hi\n"
     ]
    }
   ],
   "source": [
    "def fake_dict(**kwargs):\n",
    "    for kw in kwargs:\n",
    "        print(kw, ':', kwargs[kw])\n",
    "        \n",
    "fake_dict(한국어=\"안녕\", 영어=\"hi\")"
   ]
  },
  {
   "cell_type": "code",
   "execution_count": 16,
   "metadata": {},
   "outputs": [
    {
     "data": {
      "text/plain": [
       "{'한국어': '안녕', '영어': 'hi'}"
      ]
     },
     "execution_count": 16,
     "metadata": {},
     "output_type": "execute_result"
    }
   ],
   "source": [
    "#my_dict() 함수를 만들어 실제로 dictionary를 반환하는 함수를 만들어보세요.\n",
    "def my_dict(**kwargs):\n",
    "    return kwargs\n",
    "\n",
    "my_dict(한국어=\"안녕\", 영어=\"hi\")"
   ]
  },
  {
   "cell_type": "code",
   "execution_count": 18,
   "metadata": {},
   "outputs": [],
   "source": [
    "def user(username, password, password_confirmation):\n",
    "    if password == password_confirmation:\n",
    "        print(f'{username}님의 회원가입이 완료되었습니다.')\n",
    "    else:\n",
    "        print('비밀번호와 비밀번호 확인이 일치하지 않습니다.')\n",
    "        \n",
    "my_account = {\n",
    "                'username': '김철수',\n",
    "                'password': '1p1p1p',\n",
    "                'password_confirmation': '1p1p1p'\n",
    "}"
   ]
  },
  {
   "cell_type": "code",
   "execution_count": 21,
   "metadata": {},
   "outputs": [
    {
     "ename": "TypeError",
     "evalue": "user() missing 2 required positional arguments: 'password' and 'password_confirmation'",
     "output_type": "error",
     "traceback": [
      "\u001b[1;31m---------------------------------------------------------------------------\u001b[0m",
      "\u001b[1;31mTypeError\u001b[0m                                 Traceback (most recent call last)",
      "\u001b[1;32m<ipython-input-21-8e3e907cd536>\u001b[0m in \u001b[0;36m<module>\u001b[1;34m\u001b[0m\n\u001b[1;32m----> 1\u001b[1;33m \u001b[0muser\u001b[0m\u001b[1;33m(\u001b[0m\u001b[0mmy_account\u001b[0m\u001b[1;33m)\u001b[0m\u001b[1;33m\u001b[0m\u001b[1;33m\u001b[0m\u001b[0m\n\u001b[0m",
      "\u001b[1;31mTypeError\u001b[0m: user() missing 2 required positional arguments: 'password' and 'password_confirmation'"
     ]
    }
   ],
   "source": [
    "user(my_account)"
   ]
  },
  {
   "cell_type": "code",
   "execution_count": 20,
   "metadata": {},
   "outputs": [
    {
     "name": "stdout",
     "output_type": "stream",
     "text": [
      "김철수님의 회원가입이 완료되었습니다.\n"
     ]
    }
   ],
   "source": [
    "user(**my_account)"
   ]
  },
  {
   "cell_type": "code",
   "execution_count": 22,
   "metadata": {},
   "outputs": [
    {
     "name": "stdout",
     "output_type": "stream",
     "text": [
      "5.0 0.0 5\n",
      "0.0\n"
     ]
    },
    {
     "data": {
      "text/plain": [
       "0"
      ]
     },
     "execution_count": 22,
     "metadata": {},
     "output_type": "execute_result"
    }
   ],
   "source": [
    "#문제 1. abs()\n",
    "\n",
    "#절대값은 숫자(int, float)가 들어오면 절대값을 반환하고, \n",
    "#복소수(complex)가 들어오면 그 크기를 반환합니다. my_abs(x)를 만들어보세요.\n",
    "\n",
    "def my_abs(x):\n",
    "    if type(x) == complex:\n",
    "        x = (x.real**2 + x.imag**2) ** (1/2)\n",
    "        return x\n",
    "    else : \n",
    "        if x == 0:\n",
    "            return x ** 2\n",
    "        if x < 0:\n",
    "            return -x\n",
    "        else:\n",
    "            return x\n",
    "        \n",
    "print(my_abs(3+4j), my_abs(-0.0), my_abs(-5))\n",
    "print(my_abs(0.0))\n",
    "my_abs(0)"
   ]
  },
  {
   "cell_type": "code",
   "execution_count": 23,
   "metadata": {},
   "outputs": [
    {
     "name": "stdout",
     "output_type": "stream",
     "text": [
      "5.0 0.0 5 0.0 0\n"
     ]
    }
   ],
   "source": [
    "print(abs(3+4j), abs(-0.0), abs(-5), abs(0.0), abs(0))"
   ]
  },
  {
   "cell_type": "code",
   "execution_count": 25,
   "metadata": {},
   "outputs": [
    {
     "name": "stdout",
     "output_type": "stream",
     "text": [
      "True\n",
      "False\n",
      "True\n",
      "False\n"
     ]
    }
   ],
   "source": [
    "#문제 2. all()\n",
    "#all은 인자로 받는 iterable(range, list)의 모든 요소가 참이면 True, \n",
    "#거짓이 하나라도 있으면 False를 리턴한다. 이와 같은 my_all(x)을 작성해보세요\n",
    "\n",
    "def my_all(x):\n",
    "    for elements in x:\n",
    "        if not elements:\n",
    "            return False\n",
    "    return True\n",
    "\n",
    "print(my_all([1, 2, 5, '6']))\n",
    "print(my_all([[], 2, 5, '6']))\n",
    "print(my_all([]))\n",
    "print(my_all([0]))"
   ]
  },
  {
   "cell_type": "code",
   "execution_count": 28,
   "metadata": {},
   "outputs": [
    {
     "name": "stdout",
     "output_type": "stream",
     "text": [
      "True\n",
      "False\n",
      "True\n",
      "False\n"
     ]
    }
   ],
   "source": [
    "print(all([1, 2, 5, '6']))\n",
    "print(all([[], 2, 5, '6']))\n",
    "print(all([]))\n",
    "print(all([0]))"
   ]
  },
  {
   "cell_type": "code",
   "execution_count": null,
   "metadata": {},
   "outputs": [],
   "source": [
    "#문제 3. any()\n",
    "#any는 인자로 받는 iterable(range, list)의 하나라도 참이면 True를 리턴하고, \n",
    "#인자가 모두 거짓일 경우에만 False를 리턴한다. (all(x)의 반대.) 이와 같은 my_any(x)를 작성해보세요."
   ]
  },
  {
   "cell_type": "code",
   "execution_count": 32,
   "metadata": {},
   "outputs": [
    {
     "name": "stdout",
     "output_type": "stream",
     "text": [
      "True\n",
      "True\n",
      "False\n",
      "False\n"
     ]
    }
   ],
   "source": [
    "def my_any(x):\n",
    "    for elements in x:\n",
    "        if elements:\n",
    "            return True\n",
    "    return False\n",
    "\n",
    "print(my_any([1, 2, 5, '6']))\n",
    "print(my_any([[], 2, 5, '6']))\n",
    "print(my_any([0]))\n",
    "print(my_any([]))"
   ]
  },
  {
   "cell_type": "code",
   "execution_count": 33,
   "metadata": {},
   "outputs": [
    {
     "name": "stdout",
     "output_type": "stream",
     "text": [
      "True\n",
      "True\n",
      "False\n",
      "False\n"
     ]
    }
   ],
   "source": [
    "print(any([1, 2, 5, '6']))\n",
    "print(any([[], 2, 5, '6']))\n",
    "print(any([0]))\n",
    "print(any([]))"
   ]
  },
  {
   "cell_type": "code",
   "execution_count": 34,
   "metadata": {},
   "outputs": [
    {
     "name": "stdout",
     "output_type": "stream",
     "text": [
      "0b1000000000000 0b101\n"
     ]
    }
   ],
   "source": [
    "print(bin(4096), bin(5))"
   ]
  },
  {
   "cell_type": "code",
   "execution_count": 35,
   "metadata": {},
   "outputs": [
    {
     "name": "stdout",
     "output_type": "stream",
     "text": [
      "20\n",
      "0\n"
     ]
    }
   ],
   "source": [
    "#homework 문제1. 숫자 구성된 리스트에서 양의 정수의 합을 구하는 \n",
    "#함수 positive_sum을 작성하세요.\n",
    "\n",
    "def positive_sum(numbers):\n",
    "    sum = 0\n",
    "    for number in numbers:\n",
    "        if number > 0:\n",
    "            sum += number\n",
    "    return sum\n",
    "\n",
    "print(positive_sum([1,-4,7,12]))\n",
    "print(positive_sum([-1, -2, -3, -4]))"
   ]
  },
  {
   "cell_type": "code",
   "execution_count": 37,
   "metadata": {},
   "outputs": [
    {
     "data": {
      "text/plain": [
       "'Lf s t shrt, y nd pythn'"
      ]
     },
     "execution_count": 37,
     "metadata": {},
     "output_type": "execute_result"
    }
   ],
   "source": [
    "#homework 문제2. 주어진 문자열에서 소문자 모음을 제거하는 함수 shortcut을 작성하세요.\n",
    "\n",
    "def shortcut(input_str):\n",
    "    vowel = ['a', 'e', 'i', 'o', 'u']\n",
    "    output_str = ''\n",
    "    for i in input_str:\n",
    "        if i not in vowel:\n",
    "            output_str += i\n",
    "    return output_str\n",
    "\n",
    "shortcut(\"Life is too short, you need python\")"
   ]
  },
  {
   "cell_type": "code",
   "execution_count": null,
   "metadata": {},
   "outputs": [],
   "source": [
    "#homework 문제3. 문자열 요소로만 이루어진 리스트를 넣었을 때, 문자열 길이가 2 이상이고 \n",
    "#주어진 문자열의 첫번째와 마지막 문자가 같은 문자열의 수를 세는 함수 start_end를 작성하시오."
   ]
  },
  {
   "cell_type": "code",
   "execution_count": 38,
   "metadata": {},
   "outputs": [
    {
     "data": {
      "text/plain": [
       "3"
      ]
     },
     "execution_count": 38,
     "metadata": {},
     "output_type": "execute_result"
    }
   ],
   "source": [
    "def start_end(words):\n",
    "    count = 0\n",
    "    for word in words:\n",
    "        if len(word) >= 2 and word[0] == word[-1]:\n",
    "            count += 1\n",
    "    return count\n",
    "\n",
    "start_end(['level', 'asdwe', 's', 'abceda', 'gsdwrtfg'])"
   ]
  },
  {
   "cell_type": "code",
   "execution_count": 42,
   "metadata": {},
   "outputs": [
    {
     "data": {
      "text/plain": [
       "3"
      ]
     },
     "execution_count": 42,
     "metadata": {},
     "output_type": "execute_result"
    }
   ],
   "source": [
    "#리스트 컨프리핸션 풀이\n",
    "\n",
    "def start_end(words):\n",
    "    return len([word for word in words if len(word) >= 2 and word[0] == word[-1]])\n",
    "\n",
    "start_end(['level', 'asdwe', 's', 'abceda', 'gsdwrtfg'])"
   ]
  },
  {
   "cell_type": "code",
   "execution_count": null,
   "metadata": {},
   "outputs": [],
   "source": [
    "#homework 문제4. 1937년 Collatz란 사람에 의해 제기된 이 추측은, 주어진 수가 1이 될때까지 다음 작업을 반복하면, 모든 수를 1로 만들 수 있다는 추측입니다. 작업은 다음과 같습니다.\n",
    "\n",
    "#입력된 수가 짝수라면 2로 나눕니다.\n",
    "#입력된 수가 홀수라면 3을 곱하고 1을 더합니다.\n",
    "#결과로 나온 수에 같은 작업을 1이 될 때까지 반복합니다.\n",
    "#예를 들어, 입력된 수가 6이라면 6→3→10→5→16→8→4→2→1 이 되어 총 8번 만에 1이 됩니다.\n",
    "\n",
    "#위 작업을 몇 번이나 반복해야하는지 반환하는 함수, collatz를 완성해 주세요.\n",
    "\n",
    "#단, 작업을 500번을 반복해도 1이 되지 않는다면 –1을 반환해 주세요."
   ]
  },
  {
   "cell_type": "code",
   "execution_count": 43,
   "metadata": {},
   "outputs": [
    {
     "name": "stdout",
     "output_type": "stream",
     "text": [
      "8\n",
      "4\n",
      "-1\n"
     ]
    }
   ],
   "source": [
    "def collatz(number):\n",
    "    for i in range(500):\n",
    "        number = number/2 if number % 2 == 0 else number*3 +1\n",
    "        if number == 1:\n",
    "            return i +1\n",
    "    return -1\n",
    "\n",
    "print(collatz(6)) #=> 8\n",
    "print(collatz(16)) #=> 4\n",
    "print(collatz(626331)) #=> -1"
   ]
  },
  {
   "cell_type": "code",
   "execution_count": 44,
   "metadata": {},
   "outputs": [
    {
     "name": "stdout",
     "output_type": "stream",
     "text": [
      "[1, 3, 0, 1]\n",
      "[4, 3]\n"
     ]
    }
   ],
   "source": [
    "#문제 5. 리스트가 주어집니다. 리스트의 각 요소는 숫자 0부터 9까지로 이루어져 있습니다.\n",
    "#이때, 리스트에서 연속적으로 나타나는 숫자는 하나만 남기고 전부 제거하려고 합니다.\n",
    "#리스트에서 연속적으로 나타나는 숫자는 제거하고 남은 수들을 반환하는 lonely 함수를 작성해 주세요.\n",
    "#단, 제거된 후 남은 수들을 반환할 때는 리스트의 요소들의 순서를 유지해야 합니다.\n",
    "\n",
    "def lonely(input_list):\n",
    "    ex_num = input_list[0]\n",
    "    L = [ex_num]\n",
    "    for num in input_list:\n",
    "        if ex_num != num:\n",
    "            L.append(num)\n",
    "            ex_num = num\n",
    "    return L\n",
    "\n",
    "print(lonely([1, 1, 3, 3, 0, 1, 1]))\n",
    "print(lonely([4,4,4,3,3]))"
   ]
  },
  {
   "cell_type": "code",
   "execution_count": 49,
   "metadata": {},
   "outputs": [
    {
     "data": {
      "text/plain": [
       "'Alice L. I. David'"
      ]
     },
     "execution_count": 49,
     "metadata": {},
     "output_type": "execute_result"
    }
   ],
   "source": [
    "#문제 6. 영어 이름은 가운데 이름은 가지는 경우가 있는데 가운데 이름을 대문자로 \n",
    "#축약해서 나타내는 함수 'shorten'함수를 작성해보세요\n",
    "\n",
    "def shorten(name):\n",
    "    names = name.split()\n",
    "    for i in range(1, len(names)-1):\n",
    "        names[i] = name[i][0].upper() +'.'\n",
    "    return ' '.join(names)\n",
    "\n",
    "shorten('Alice betty catherine David')"
   ]
  },
  {
   "cell_type": "code",
   "execution_count": null,
   "metadata": {},
   "outputs": [],
   "source": []
  },
  {
   "cell_type": "code",
   "execution_count": null,
   "metadata": {},
   "outputs": [],
   "source": []
  },
  {
   "cell_type": "code",
   "execution_count": null,
   "metadata": {},
   "outputs": [],
   "source": []
  }
 ],
 "metadata": {
  "kernelspec": {
   "display_name": "Python 3",
   "language": "python",
   "name": "python3"
  },
  "language_info": {
   "codemirror_mode": {
    "name": "ipython",
    "version": 3
   },
   "file_extension": ".py",
   "mimetype": "text/x-python",
   "name": "python",
   "nbconvert_exporter": "python",
   "pygments_lexer": "ipython3",
   "version": "3.6.7"
  }
 },
 "nbformat": 4,
 "nbformat_minor": 2
}
